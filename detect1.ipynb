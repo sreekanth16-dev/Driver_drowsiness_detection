{
 "cells": [
  {
   "cell_type": "code",
   "execution_count": 1,
   "metadata": {},
   "outputs": [],
   "source": [
    "import os\n",
    "from skimage.io import imread\n",
    "from skimage.transform import resize\n",
    "import numpy as np\n",
    "\n",
    "import tensorflow as tf\n",
    "from tensorflow.keras.models import Sequential\n",
    "from tensorflow.keras.layers import Dense, Conv2D, MaxPool2D, Flatten,Dropout\n",
    "from tensorflow.keras.preprocessing.image import ImageDataGenerator\n",
    "from sklearn.model_selection import train_test_split\n"
   ]
  },
  {
   "cell_type": "code",
   "execution_count": 3,
   "metadata": {},
   "outputs": [
    {
     "name": "stdout",
     "output_type": "stream",
     "text": [
      "loaded closed_eye\n",
      "loaded open_eye\n"
     ]
    }
   ],
   "source": [
    "datapath='archive (7)'\n",
    "categories=['closed_eye','open_eye']\n",
    "X=[]\n",
    "y=[]\n",
    "for category in categories:\n",
    "  fold_path=os.path.join(datapath,category)\n",
    "  img_fold=os.listdir(fold_path)\n",
    "  for img in img_fold:\n",
    "    img_path=os.path.join(fold_path,img)\n",
    "    images=imread(img_path)\n",
    "    img_r=resize(images,(64,64,1))\n",
    "    X.append(img_r)\n",
    "    y.append(categories.index(category))\n",
    "  print('loaded',category)"
   ]
  },
  {
   "cell_type": "code",
   "execution_count": 4,
   "metadata": {},
   "outputs": [],
   "source": [
    "X=np.array(X)\n",
    "y=np.array(y)"
   ]
  },
  {
   "cell_type": "code",
   "execution_count": 5,
   "metadata": {},
   "outputs": [],
   "source": [
    "X_train,X_test,y_train,y_test=train_test_split(X,y,test_size=0.2,random_state=42)\n"
   ]
  },
  {
   "cell_type": "code",
   "execution_count": null,
   "metadata": {},
   "outputs": [
    {
     "name": "stderr",
     "output_type": "stream",
     "text": [
      "c:\\Users\\vssre\\AppData\\Local\\Programs\\Python\\Python311\\Lib\\site-packages\\keras\\src\\layers\\convolutional\\base_conv.py:107: UserWarning: Do not pass an `input_shape`/`input_dim` argument to a layer. When using Sequential models, prefer using an `Input(shape)` object as the first layer in the model instead.\n",
      "  super().__init__(activity_regularizer=activity_regularizer, **kwargs)\n",
      "c:\\Users\\vssre\\AppData\\Local\\Programs\\Python\\Python311\\Lib\\site-packages\\keras\\src\\trainers\\data_adapters\\py_dataset_adapter.py:121: UserWarning: Your `PyDataset` class should call `super().__init__(**kwargs)` in its constructor. `**kwargs` can include `workers`, `use_multiprocessing`, `max_queue_size`. Do not pass these arguments to `fit()`, as they will be ignored.\n",
      "  self._warn_if_super_not_called()\n"
     ]
    },
    {
     "name": "stdout",
     "output_type": "stream",
     "text": [
      "Epoch 1/50\n",
      "\u001b[1m1200/1200\u001b[0m \u001b[32m━━━━━━━━━━━━━━━━━━━━\u001b[0m\u001b[37m\u001b[0m \u001b[1m56s\u001b[0m 44ms/step - accuracy: 0.7424 - loss: 0.5138 - val_accuracy: 0.9157 - val_loss: 0.2518\n",
      "Epoch 2/50\n",
      "\u001b[1m1200/1200\u001b[0m \u001b[32m━━━━━━━━━━━━━━━━━━━━\u001b[0m\u001b[37m\u001b[0m \u001b[1m52s\u001b[0m 43ms/step - accuracy: 0.8569 - loss: 0.3535 - val_accuracy: 0.9286 - val_loss: 0.1932\n",
      "Epoch 3/50\n",
      "\u001b[1m1200/1200\u001b[0m \u001b[32m━━━━━━━━━━━━━━━━━━━━\u001b[0m\u001b[37m\u001b[0m \u001b[1m66s\u001b[0m 55ms/step - accuracy: 0.8848 - loss: 0.2936 - val_accuracy: 0.9491 - val_loss: 0.1451\n",
      "Epoch 4/50\n",
      "\u001b[1m1200/1200\u001b[0m \u001b[32m━━━━━━━━━━━━━━━━━━━━\u001b[0m\u001b[37m\u001b[0m \u001b[1m57s\u001b[0m 47ms/step - accuracy: 0.9062 - loss: 0.2460 - val_accuracy: 0.9406 - val_loss: 0.1464\n",
      "Epoch 5/50\n",
      "\u001b[1m1200/1200\u001b[0m \u001b[32m━━━━━━━━━━━━━━━━━━━━\u001b[0m\u001b[37m\u001b[0m \u001b[1m49s\u001b[0m 41ms/step - accuracy: 0.9187 - loss: 0.2128 - val_accuracy: 0.9652 - val_loss: 0.1021\n",
      "Epoch 6/50\n",
      "\u001b[1m1200/1200\u001b[0m \u001b[32m━━━━━━━━━━━━━━━━━━━━\u001b[0m\u001b[37m\u001b[0m \u001b[1m52s\u001b[0m 43ms/step - accuracy: 0.9260 - loss: 0.1948 - val_accuracy: 0.9700 - val_loss: 0.0941\n",
      "Epoch 7/50\n",
      "\u001b[1m1200/1200\u001b[0m \u001b[32m━━━━━━━━━━━━━━━━━━━━\u001b[0m\u001b[37m\u001b[0m \u001b[1m49s\u001b[0m 41ms/step - accuracy: 0.9341 - loss: 0.1760 - val_accuracy: 0.9669 - val_loss: 0.0840\n",
      "Epoch 8/50\n",
      "\u001b[1m1200/1200\u001b[0m \u001b[32m━━━━━━━━━━━━━━━━━━━━\u001b[0m\u001b[37m\u001b[0m \u001b[1m47s\u001b[0m 39ms/step - accuracy: 0.9400 - loss: 0.1594 - val_accuracy: 0.9772 - val_loss: 0.0738\n",
      "Epoch 9/50\n",
      "\u001b[1m1200/1200\u001b[0m \u001b[32m━━━━━━━━━━━━━━━━━━━━\u001b[0m\u001b[37m\u001b[0m \u001b[1m49s\u001b[0m 41ms/step - accuracy: 0.9461 - loss: 0.1488 - val_accuracy: 0.9781 - val_loss: 0.0611\n",
      "Epoch 10/50\n",
      "\u001b[1m1200/1200\u001b[0m \u001b[32m━━━━━━━━━━━━━━━━━━━━\u001b[0m\u001b[37m\u001b[0m \u001b[1m50s\u001b[0m 42ms/step - accuracy: 0.9529 - loss: 0.1276 - val_accuracy: 0.9818 - val_loss: 0.0569\n",
      "Epoch 11/50\n",
      "\u001b[1m1200/1200\u001b[0m \u001b[32m━━━━━━━━━━━━━━━━━━━━\u001b[0m\u001b[37m\u001b[0m \u001b[1m49s\u001b[0m 41ms/step - accuracy: 0.9577 - loss: 0.1193 - val_accuracy: 0.9783 - val_loss: 0.0557\n",
      "Epoch 12/50\n",
      "\u001b[1m1200/1200\u001b[0m \u001b[32m━━━━━━━━━━━━━━━━━━━━\u001b[0m\u001b[37m\u001b[0m \u001b[1m50s\u001b[0m 41ms/step - accuracy: 0.9578 - loss: 0.1178 - val_accuracy: 0.9812 - val_loss: 0.0529\n",
      "Epoch 13/50\n",
      "\u001b[1m1200/1200\u001b[0m \u001b[32m━━━━━━━━━━━━━━━━━━━━\u001b[0m\u001b[37m\u001b[0m \u001b[1m51s\u001b[0m 42ms/step - accuracy: 0.9609 - loss: 0.1091 - val_accuracy: 0.9822 - val_loss: 0.0492\n",
      "Epoch 14/50\n",
      "\u001b[1m1200/1200\u001b[0m \u001b[32m━━━━━━━━━━━━━━━━━━━━\u001b[0m\u001b[37m\u001b[0m \u001b[1m54s\u001b[0m 45ms/step - accuracy: 0.9616 - loss: 0.1088 - val_accuracy: 0.9862 - val_loss: 0.0394\n",
      "Epoch 15/50\n",
      "\u001b[1m1200/1200\u001b[0m \u001b[32m━━━━━━━━━━━━━━━━━━━━\u001b[0m\u001b[37m\u001b[0m \u001b[1m49s\u001b[0m 41ms/step - accuracy: 0.9613 - loss: 0.1065 - val_accuracy: 0.9832 - val_loss: 0.0483\n",
      "Epoch 16/50\n",
      "\u001b[1m1200/1200\u001b[0m \u001b[32m━━━━━━━━━━━━━━━━━━━━\u001b[0m\u001b[37m\u001b[0m \u001b[1m47s\u001b[0m 39ms/step - accuracy: 0.9651 - loss: 0.0998 - val_accuracy: 0.9853 - val_loss: 0.0409\n",
      "Epoch 17/50\n",
      "\u001b[1m1200/1200\u001b[0m \u001b[32m━━━━━━━━━━━━━━━━━━━━\u001b[0m\u001b[37m\u001b[0m \u001b[1m50s\u001b[0m 41ms/step - accuracy: 0.9657 - loss: 0.0957 - val_accuracy: 0.9864 - val_loss: 0.0393\n",
      "Epoch 18/50\n",
      "\u001b[1m1200/1200\u001b[0m \u001b[32m━━━━━━━━━━━━━━━━━━━━\u001b[0m\u001b[37m\u001b[0m \u001b[1m48s\u001b[0m 40ms/step - accuracy: 0.9675 - loss: 0.0922 - val_accuracy: 0.9862 - val_loss: 0.0389\n",
      "Epoch 19/50\n",
      "\u001b[1m1200/1200\u001b[0m \u001b[32m━━━━━━━━━━━━━━━━━━━━\u001b[0m\u001b[37m\u001b[0m \u001b[1m49s\u001b[0m 40ms/step - accuracy: 0.9696 - loss: 0.0902 - val_accuracy: 0.9833 - val_loss: 0.0457\n",
      "Epoch 20/50\n",
      "\u001b[1m1200/1200\u001b[0m \u001b[32m━━━━━━━━━━━━━━━━━━━━\u001b[0m\u001b[37m\u001b[0m \u001b[1m48s\u001b[0m 40ms/step - accuracy: 0.9681 - loss: 0.0883 - val_accuracy: 0.9857 - val_loss: 0.0411\n",
      "Epoch 21/50\n",
      "\u001b[1m1200/1200\u001b[0m \u001b[32m━━━━━━━━━━━━━━━━━━━━\u001b[0m\u001b[37m\u001b[0m \u001b[1m49s\u001b[0m 41ms/step - accuracy: 0.9696 - loss: 0.0852 - val_accuracy: 0.9871 - val_loss: 0.0376\n",
      "Epoch 22/50\n",
      "\u001b[1m1200/1200\u001b[0m \u001b[32m━━━━━━━━━━━━━━━━━━━━\u001b[0m\u001b[37m\u001b[0m \u001b[1m51s\u001b[0m 43ms/step - accuracy: 0.9732 - loss: 0.0758 - val_accuracy: 0.9880 - val_loss: 0.0330\n",
      "Epoch 23/50\n",
      "\u001b[1m1200/1200\u001b[0m \u001b[32m━━━━━━━━━━━━━━━━━━━━\u001b[0m\u001b[37m\u001b[0m \u001b[1m52s\u001b[0m 43ms/step - accuracy: 0.9731 - loss: 0.0781 - val_accuracy: 0.9883 - val_loss: 0.0341\n",
      "Epoch 24/50\n",
      "\u001b[1m1200/1200\u001b[0m \u001b[32m━━━━━━━━━━━━━━━━━━━━\u001b[0m\u001b[37m\u001b[0m \u001b[1m51s\u001b[0m 42ms/step - accuracy: 0.9721 - loss: 0.0822 - val_accuracy: 0.9885 - val_loss: 0.0341\n",
      "Epoch 25/50\n",
      "\u001b[1m1200/1200\u001b[0m \u001b[32m━━━━━━━━━━━━━━━━━━━━\u001b[0m\u001b[37m\u001b[0m \u001b[1m50s\u001b[0m 41ms/step - accuracy: 0.9740 - loss: 0.0752 - val_accuracy: 0.9885 - val_loss: 0.0340\n",
      "Epoch 26/50\n",
      "\u001b[1m1200/1200\u001b[0m \u001b[32m━━━━━━━━━━━━━━━━━━━━\u001b[0m\u001b[37m\u001b[0m \u001b[1m50s\u001b[0m 42ms/step - accuracy: 0.9733 - loss: 0.0759 - val_accuracy: 0.9898 - val_loss: 0.0331\n",
      "Epoch 27/50\n",
      "\u001b[1m1200/1200\u001b[0m \u001b[32m━━━━━━━━━━━━━━━━━━━━\u001b[0m\u001b[37m\u001b[0m \u001b[1m50s\u001b[0m 41ms/step - accuracy: 0.9735 - loss: 0.0766 - val_accuracy: 0.9904 - val_loss: 0.0303\n",
      "Epoch 28/50\n",
      "\u001b[1m1200/1200\u001b[0m \u001b[32m━━━━━━━━━━━━━━━━━━━━\u001b[0m\u001b[37m\u001b[0m \u001b[1m49s\u001b[0m 40ms/step - accuracy: 0.9758 - loss: 0.0722 - val_accuracy: 0.9871 - val_loss: 0.0323\n",
      "Epoch 29/50\n",
      "\u001b[1m1200/1200\u001b[0m \u001b[32m━━━━━━━━━━━━━━━━━━━━\u001b[0m\u001b[37m\u001b[0m \u001b[1m47s\u001b[0m 39ms/step - accuracy: 0.9761 - loss: 0.0701 - val_accuracy: 0.9891 - val_loss: 0.0332\n",
      "Epoch 30/50\n",
      "\u001b[1m1200/1200\u001b[0m \u001b[32m━━━━━━━━━━━━━━━━━━━━\u001b[0m\u001b[37m\u001b[0m \u001b[1m50s\u001b[0m 41ms/step - accuracy: 0.9743 - loss: 0.0736 - val_accuracy: 0.9839 - val_loss: 0.0472\n",
      "Epoch 31/50\n",
      "\u001b[1m1200/1200\u001b[0m \u001b[32m━━━━━━━━━━━━━━━━━━━━\u001b[0m\u001b[37m\u001b[0m \u001b[1m50s\u001b[0m 42ms/step - accuracy: 0.9761 - loss: 0.0693 - val_accuracy: 0.9887 - val_loss: 0.0303\n",
      "Epoch 32/50\n",
      "\u001b[1m1200/1200\u001b[0m \u001b[32m━━━━━━━━━━━━━━━━━━━━\u001b[0m\u001b[37m\u001b[0m \u001b[1m49s\u001b[0m 41ms/step - accuracy: 0.9762 - loss: 0.0703 - val_accuracy: 0.9906 - val_loss: 0.0291\n",
      "Epoch 33/50\n",
      "\u001b[1m1200/1200\u001b[0m \u001b[32m━━━━━━━━━━━━━━━━━━━━\u001b[0m\u001b[37m\u001b[0m \u001b[1m50s\u001b[0m 42ms/step - accuracy: 0.9775 - loss: 0.0645 - val_accuracy: 0.9901 - val_loss: 0.0333\n",
      "Epoch 34/50\n",
      "\u001b[1m1200/1200\u001b[0m \u001b[32m━━━━━━━━━━━━━━━━━━━━\u001b[0m\u001b[37m\u001b[0m \u001b[1m50s\u001b[0m 41ms/step - accuracy: 0.9762 - loss: 0.0693 - val_accuracy: 0.9904 - val_loss: 0.0287\n",
      "Epoch 35/50\n",
      "\u001b[1m1200/1200\u001b[0m \u001b[32m━━━━━━━━━━━━━━━━━━━━\u001b[0m\u001b[37m\u001b[0m \u001b[1m49s\u001b[0m 41ms/step - accuracy: 0.9783 - loss: 0.0645 - val_accuracy: 0.9876 - val_loss: 0.0348\n",
      "Epoch 36/50\n",
      "\u001b[1m1200/1200\u001b[0m \u001b[32m━━━━━━━━━━━━━━━━━━━━\u001b[0m\u001b[37m\u001b[0m \u001b[1m54s\u001b[0m 45ms/step - accuracy: 0.9790 - loss: 0.0622 - val_accuracy: 0.9894 - val_loss: 0.0328\n",
      "Epoch 37/50\n",
      "\u001b[1m1200/1200\u001b[0m \u001b[32m━━━━━━━━━━━━━━━━━━━━\u001b[0m\u001b[37m\u001b[0m \u001b[1m53s\u001b[0m 44ms/step - accuracy: 0.9782 - loss: 0.0643 - val_accuracy: 0.9878 - val_loss: 0.0336\n",
      "Epoch 38/50\n",
      "\u001b[1m1200/1200\u001b[0m \u001b[32m━━━━━━━━━━━━━━━━━━━━\u001b[0m\u001b[37m\u001b[0m \u001b[1m51s\u001b[0m 42ms/step - accuracy: 0.9770 - loss: 0.0696 - val_accuracy: 0.9895 - val_loss: 0.0336\n",
      "Epoch 39/50\n",
      "\u001b[1m1200/1200\u001b[0m \u001b[32m━━━━━━━━━━━━━━━━━━━━\u001b[0m\u001b[37m\u001b[0m \u001b[1m50s\u001b[0m 42ms/step - accuracy: 0.9769 - loss: 0.0655 - val_accuracy: 0.9910 - val_loss: 0.0268\n",
      "Epoch 40/50\n",
      "\u001b[1m1200/1200\u001b[0m \u001b[32m━━━━━━━━━━━━━━━━━━━━\u001b[0m\u001b[37m\u001b[0m \u001b[1m49s\u001b[0m 41ms/step - accuracy: 0.9765 - loss: 0.0671 - val_accuracy: 0.9906 - val_loss: 0.0253\n",
      "Epoch 41/50\n",
      "\u001b[1m1200/1200\u001b[0m \u001b[32m━━━━━━━━━━━━━━━━━━━━\u001b[0m\u001b[37m\u001b[0m \u001b[1m50s\u001b[0m 41ms/step - accuracy: 0.9802 - loss: 0.0582 - val_accuracy: 0.9905 - val_loss: 0.0295\n",
      "Epoch 42/50\n",
      "\u001b[1m1200/1200\u001b[0m \u001b[32m━━━━━━━━━━━━━━━━━━━━\u001b[0m\u001b[37m\u001b[0m \u001b[1m49s\u001b[0m 41ms/step - accuracy: 0.9810 - loss: 0.0553 - val_accuracy: 0.9904 - val_loss: 0.0273\n",
      "Epoch 43/50\n",
      "\u001b[1m1200/1200\u001b[0m \u001b[32m━━━━━━━━━━━━━━━━━━━━\u001b[0m\u001b[37m\u001b[0m \u001b[1m49s\u001b[0m 41ms/step - accuracy: 0.9790 - loss: 0.0580 - val_accuracy: 0.9914 - val_loss: 0.0267\n",
      "Epoch 44/50\n",
      "\u001b[1m1200/1200\u001b[0m \u001b[32m━━━━━━━━━━━━━━━━━━━━\u001b[0m\u001b[37m\u001b[0m \u001b[1m49s\u001b[0m 41ms/step - accuracy: 0.9806 - loss: 0.0549 - val_accuracy: 0.9899 - val_loss: 0.0316\n",
      "Epoch 45/50\n",
      "\u001b[1m1200/1200\u001b[0m \u001b[32m━━━━━━━━━━━━━━━━━━━━\u001b[0m\u001b[37m\u001b[0m \u001b[1m50s\u001b[0m 41ms/step - accuracy: 0.9812 - loss: 0.0585 - val_accuracy: 0.9905 - val_loss: 0.0264\n",
      "Epoch 46/50\n",
      "\u001b[1m1200/1200\u001b[0m \u001b[32m━━━━━━━━━━━━━━━━━━━━\u001b[0m\u001b[37m\u001b[0m \u001b[1m52s\u001b[0m 43ms/step - accuracy: 0.9804 - loss: 0.0559 - val_accuracy: 0.9911 - val_loss: 0.0253\n",
      "Epoch 47/50\n",
      "\u001b[1m1200/1200\u001b[0m \u001b[32m━━━━━━━━━━━━━━━━━━━━\u001b[0m\u001b[37m\u001b[0m \u001b[1m49s\u001b[0m 41ms/step - accuracy: 0.9815 - loss: 0.0566 - val_accuracy: 0.9923 - val_loss: 0.0235\n",
      "Epoch 48/50\n",
      "\u001b[1m1200/1200\u001b[0m \u001b[32m━━━━━━━━━━━━━━━━━━━━\u001b[0m\u001b[37m\u001b[0m \u001b[1m50s\u001b[0m 42ms/step - accuracy: 0.9814 - loss: 0.0521 - val_accuracy: 0.9912 - val_loss: 0.0242\n",
      "Epoch 49/50\n",
      "\u001b[1m1200/1200\u001b[0m \u001b[32m━━━━━━━━━━━━━━━━━━━━\u001b[0m\u001b[37m\u001b[0m \u001b[1m52s\u001b[0m 43ms/step - accuracy: 0.9812 - loss: 0.0570 - val_accuracy: 0.9892 - val_loss: 0.0277\n",
      "Epoch 50/50\n",
      "\u001b[1m1200/1200\u001b[0m \u001b[32m━━━━━━━━━━━━━━━━━━━━\u001b[0m\u001b[37m\u001b[0m \u001b[1m51s\u001b[0m 42ms/step - accuracy: 0.9830 - loss: 0.0503 - val_accuracy: 0.9920 - val_loss: 0.0227\n"
     ]
    },
    {
     "data": {
      "text/plain": [
       "<keras.src.callbacks.history.History at 0x1ea53548c50>"
      ]
     },
     "execution_count": 6,
     "metadata": {},
     "output_type": "execute_result"
    }
   ],
   "source": [
    "datagen = ImageDataGenerator(\n",
    "    rotation_range=20,      # Rotate images up to 20 degrees\n",
    "    width_shift_range=0.2,  # Shift image horizontally up to 20% of the width\n",
    "    height_shift_range=0.2, # Shift image vertically up to 20% of the height\n",
    "    shear_range=0.2,        # Shear transformation\n",
    "    zoom_range=0.2,         # Random zoom\n",
    "    horizontal_flip=True,   # Randomly flip images horizontally\n",
    "    fill_mode='nearest'     # Filling missing pixels after transformation\n",
    ")\n",
    "model=Sequential()\n",
    "\n",
    "model.add(Conv2D(32,(3,3),activation='relu', input_shape=(64, 64, 1)))\n",
    "model.add(MaxPool2D(2,2))\n",
    "model.add(Conv2D(64, (3, 3), activation='relu'))\n",
    "model.add(MaxPool2D(2, 2))\n",
    "model.add(Flatten())\n",
    "model.add(Dense(128,activation='relu'))\n",
    "model.add(Dropout(0.5))\n",
    "\n",
    "\n",
    "model.add(Dense(1,activation='sigmoid'))\n",
    "\n",
    "\n",
    "#compile model\n",
    "model.compile(optimizer='adam',loss='binary_crossentropy',metrics=['accuracy'])\n",
    "\n",
    "batch_size = 32\n",
    "model.fit(\n",
    "    datagen.flow(X_train, y_train, batch_size=batch_size),  \n",
    "    validation_data=(X_test, y_test),\n",
    "    epochs=50\n",
    ")"
   ]
  },
  {
   "cell_type": "code",
   "execution_count": 7,
   "metadata": {},
   "outputs": [
    {
     "name": "stderr",
     "output_type": "stream",
     "text": [
      "WARNING:absl:You are saving your model as an HDF5 file via `model.save()` or `keras.saving.save_model(model)`. This file format is considered legacy. We recommend using instead the native Keras format, e.g. `model.save('my_model.keras')` or `keras.saving.save_model(model, 'my_model.keras')`. \n"
     ]
    }
   ],
   "source": [
    "model.save('drowsyness_detection1.h5')"
   ]
  }
 ],
 "metadata": {
  "kernelspec": {
   "display_name": "Python 3",
   "language": "python",
   "name": "python3"
  },
  "language_info": {
   "codemirror_mode": {
    "name": "ipython",
    "version": 3
   },
   "file_extension": ".py",
   "mimetype": "text/x-python",
   "name": "python",
   "nbconvert_exporter": "python",
   "pygments_lexer": "ipython3",
   "version": "3.11.9"
  }
 },
 "nbformat": 4,
 "nbformat_minor": 2
}
